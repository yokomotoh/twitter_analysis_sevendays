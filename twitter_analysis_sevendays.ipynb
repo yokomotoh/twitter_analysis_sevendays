{
 "cells": [
  {
   "cell_type": "markdown",
   "metadata": {},
   "source": [
    "## Twitter analysis 7 days"
   ]
  },
  {
   "cell_type": "code",
   "execution_count": 1,
   "metadata": {},
   "outputs": [
    {
     "name": "stdout",
     "output_type": "stream",
     "text": [
      "Requirement already satisfied: textblob in ./anaconda3/envs/py37/lib/python3.7/site-packages (0.15.3)\n",
      "Requirement already satisfied: nltk>=3.1 in ./anaconda3/envs/py37/lib/python3.7/site-packages (from textblob) (3.4.5)\n",
      "Requirement already satisfied: six in ./anaconda3/envs/py37/lib/python3.7/site-packages (from nltk>=3.1->textblob) (1.12.0)\n",
      "Note: you may need to restart the kernel to use updated packages.\n"
     ]
    }
   ],
   "source": [
    "pip install textblob"
   ]
  },
  {
   "cell_type": "code",
   "execution_count": 2,
   "metadata": {},
   "outputs": [],
   "source": [
    "#!/usr/bin/env python3\n",
    "# -*- coding: utf-8 -*-\n",
    "\"\"\"\n",
    "Created on Wed Jun 19 14:57:35 2019\n",
    "\n",
    "@author: yoko\n",
    "\"\"\"\n",
    "#### Twitter_analysis_1\n",
    "\n",
    "import tweepy\n",
    "#import json\n",
    "import pandas as pd\n",
    "#from scipy.misc import imread\n",
    "#from wordcloud import WordCloud, STOPWORDS, ImageColorGenerator\n",
    "#import matplotlib as mpl\n",
    "#import csv\n",
    "import matplotlib.pyplot as plt\n",
    "\n",
    "#import operator\n",
    "from textblob import TextBlob\n",
    "#from textblob import Word\n",
    "#from textblob.sentiments import NaiveBayesAnalyzer\n",
    "\n",
    "#For Graph\n",
    "import numpy as np\n",
    "from matplotlib import rc"
   ]
  },
  {
   "cell_type": "code",
   "execution_count": 3,
   "metadata": {},
   "outputs": [],
   "source": [
    "#### Twitter_analysis_2\n",
    "#Authentication\n",
    "\n",
    "\n",
    "import yaml\n",
    "\n",
    "with open(\"config.yml\", 'r') as ymlfile:\n",
    "    cfg = yaml.safe_load(ymlfile)\n",
    "\n",
    "#print(cfg['api_creds']['consumer_key'])\n",
    "#print(cfg['api_creds']['access_token'])\n",
    "consumer_key = cfg['api_creds']['consumer_key']\n",
    "consumer_secret = cfg['api_creds']['consumer_secret']\n",
    "access_token = cfg['api_creds']['access_token']\n",
    "access_token_secret = cfg['api_creds']['access_token_secret']\n",
    "\n",
    "auth = tweepy.OAuthHandler(consumer_key, consumer_secret) #Interacting with twitter's API\n",
    "auth.set_access_token(access_token, access_token_secret)\n",
    "#api = tweepy.API (auth) #creating the API object\n",
    "api = tweepy.API(auth, wait_on_rate_limit=True)"
   ]
  },
  {
   "cell_type": "code",
   "execution_count": 4,
   "metadata": {},
   "outputs": [
    {
     "name": "stdout",
     "output_type": "stream",
     "text": [
      "keyword:  Apple\n",
      "keyword stock name:  AAPL\n",
      "num_of_tweets_extracted:  50\n",
      "num_of_date:  5\n",
      "2021-06-23\n",
      "date: 2021-06-23\n",
      "timedelta_of_a_day: 1 day, 0:00:00\n",
      "today minus num_of_date: 2021-06-18\n"
     ]
    }
   ],
   "source": [
    "#Extracting Tweets\n",
    "\n",
    "keyword = 'Apple'\n",
    "keyword_stock_name = 'AAPL'\n",
    "#keyword = 'Amazon'\n",
    "#keyword_stock_name = 'AMZN'\n",
    "#keyword = 'Facebook'\n",
    "#keyword_stock_name = 'FB'\n",
    "#keyword = 'Google'\n",
    "#keyword_stock_name = 'GOOGL'\n",
    "#keyword = 'Boeing'\n",
    "#keyword_stock_name = 'BA'\n",
    "#keyword = 'Microsoft'\n",
    "#keyword_stock_name = 'MSFT'\n",
    "num_of_tweets_extracted = 50\n",
    "choose_lang = \"en\"\n",
    "num_of_date = 5\n",
    "\n",
    "print('keyword: ', keyword)\n",
    "print('keyword stock name: ', keyword_stock_name)\n",
    "print('num_of_tweets_extracted: ', num_of_tweets_extracted)\n",
    "print('num_of_date: ', num_of_date)\n",
    "\n",
    "#from datetime import datetime\n",
    "#today = str(datetime.today())\n",
    "#print(today)   # '2017-12-26'\n",
    "#\n",
    "#datetime.today().strftime('%Y-%m-%d')\n",
    "#\n",
    "#twitter_search_date = ('2019-06-11', '2019-06-12', '2019-06-13', '2019-06-14', '2019-06-17', '2019-06-18')\n",
    "\n",
    "import datetime\n",
    "#datetime_object = datetime.datetime.now()\n",
    "datetime_object = datetime.date.today()\n",
    "print(datetime_object)\n",
    "#print('timestamp:', datetime_object.timestamp())\n",
    "print('date:', datetime_object)\n",
    "from datetime import timedelta\n",
    "print('timedelta_of_a_day:', timedelta(days = 1))\n",
    "from datetime import datetime\n",
    "today_minus_a_week = datetime_object - timedelta(days = num_of_date)\n",
    "#aa = datetime_object.timestamp() + timedelta(days = 1)\n",
    "#print('from timestamp:', datetime.fromtimestamp(datetime_object.timestamp()))\n",
    "print('today minus num_of_date:', today_minus_a_week)"
   ]
  },
  {
   "cell_type": "code",
   "execution_count": 5,
   "metadata": {},
   "outputs": [
    {
     "name": "stdout",
     "output_type": "stream",
     "text": [
      "start:  2021-06-18\n",
      "end:  2021-06-19\n",
      "start:  2021-06-19\n",
      "end:  2021-06-20\n",
      "start:  2021-06-20\n",
      "end:  2021-06-21\n",
      "start:  2021-06-21\n",
      "end:  2021-06-22\n",
      "start:  2021-06-22\n",
      "end:  2021-06-23\n"
     ]
    },
    {
     "data": {
      "image/png": "[encoded data removed]",
      "text/plain": [
       "<Figure size 432x288 with 1 Axes>"
      ]
     },
     "metadata": {
      "needs_background": "light"
     },
     "output_type": "display_data"
    }
   ],
   "source": [
    "from pandas.plotting import register_matplotlib_converters\n",
    "register_matplotlib_converters()\n",
    "\n",
    "twitter_search_date = []\n",
    "\n",
    "twitter_sentiment = []\n",
    "twitter_count_sentiment = []\n",
    "twitter_count_sentiment_plusretweet = []\n",
    "twitter_value_sentiment = []\n",
    "\n",
    "for dd in range(num_of_date):\n",
    "    day_plus_days = datetime_object - timedelta(days = (num_of_date - dd))\n",
    "    day_until = day_plus_days + timedelta(days=1)\n",
    "    print('start: ', day_plus_days)\n",
    "    print('end: ', day_until) \n",
    "    twitter_search_date.append(day_plus_days)\n",
    "\n",
    "#for dd in range(len(twitter_search_date)-1):\n",
    "    results = []\n",
    "    count_negative_sentiment = 0\n",
    "    count_neutral_sentiment = 0\n",
    "    count_positive_sentiment = 0\n",
    "    count_negative_sentiment_plusretweet = 0\n",
    "    count_neutral_sentiment_plusretweet = 0\n",
    "    count_positive_sentiment_plusretweet = 0\n",
    "    value_negative_sentiment = 0.00\n",
    "    value_neutral_sentiment = 0.00\n",
    "    value_positive_sentiment = 0.00\n",
    "    value_sentiment = 0.00\n",
    "    \n",
    "    #for tweet in tweepy.Cursor (api.search, q = 'apple', lang = \"en\").items(1000): \n",
    "    for tweet in tweepy.Cursor (api.search, q = keyword, lang = choose_lang, since = day_plus_days, until = day_until).items(num_of_tweets_extracted):     \n",
    "    #for tweet in tweepy.Cursor (api.search, q = keyword, lang = \"en\", since = twitter_search_date[dd], until = twitter_search_date[dd] + timedelta(days = 1)).items(num_of_tweets_extracted): \n",
    "    #for tweet in tweepy.Cursor (api.search, q = keyword, lang = choose_lang, since = day_plus_days, until = day_plus_days + timedelta(days=1)).items(num_of_tweets_extracted):\n",
    "        results.append(tweet)\n",
    "    \n",
    "    #### Twitter_analysis_3\n",
    "    #Store tweets data in a dataframe\n",
    "\n",
    "    def tweets_df(results):\n",
    "        id_list = [tweet.id for tweet  in results]\n",
    "        data_set = pd.DataFrame(id_list, columns = [\"id\"])\n",
    "        data_set[\"text\"] = [tweet.text for tweet in results]\n",
    "        data_set[\"created_at\"] = [tweet.created_at for tweet in results]\n",
    "        data_set[\"retweet_count\"] = [tweet.retweet_count for tweet in results]\n",
    "        data_set[\"user_screen_name\"] = [tweet.author.screen_name for tweet in results]\n",
    "        data_set[\"user_followers_count\"] = [tweet.author.followers_count for tweet in results]\n",
    "        data_set[\"user_location\"] = [tweet.author.location for tweet in results]\n",
    "        data_set[\"Hashtags\"] = [tweet.entities.get('hashtags') for tweet in results]\n",
    "        return data_set\n",
    "    data_set = tweets_df(results)\n",
    "\n",
    "\n",
    "    # Remove tweets with duplicate text\n",
    "\n",
    "    text = data_set[\"text\"]\n",
    "\n",
    "    for i in range(0,len(text)):\n",
    "        txt = ' '.join(word for word in text[i] .split() if not word.startswith('https:'))\n",
    "        #data_set.set_value(i, 'text2', txt)\n",
    "        data_set.at[i, 'text2']= txt\n",
    "\n",
    "    data_set.drop_duplicates('text2', inplace=True)\n",
    "    data_set.reset_index(drop = True, inplace=True)\n",
    "    data_set.drop('text', axis = 1, inplace = True)\n",
    "    data_set.rename(columns={'text2': 'text'}, inplace=True)\n",
    "\n",
    "    ### Twitter_analysys_4\n",
    "    text = data_set[\"text\"]\n",
    "\n",
    "    for i in range(0,len(text)):\n",
    "        textB = TextBlob(text[i])\n",
    "        sentiment = textB.sentiment.polarity\n",
    "        # data_set.set_value(i, 'Sentiment',sentiment)\n",
    "        data_set.at[i, 'Sentiment'] = sentiment\n",
    "        if sentiment <0.00:\n",
    "            SentimentClass = 'Negative'\n",
    "            # data_set.set_value(i, 'SentimentClass', SentimentClass )\n",
    "            data_set.at[i, 'SentimentClass'] = SentimentClass\n",
    "            count_negative_sentiment += 1\n",
    "            count_negative_sentiment_plusretweet += data_set.at[i, \"retweet_count\"]+1\n",
    "            value_negative_sentiment +=sentiment\n",
    "        elif sentiment >0.00:\n",
    "            SentimentClass = 'Positive'\n",
    "            # data_set.set_value(i, 'SentimentClass', SentimentClass )\n",
    "            data_set.at[i, 'SentimentClass'] = SentimentClass\n",
    "            count_positive_sentiment += 1\n",
    "            count_positive_sentiment_plusretweet += data_set.at[i, \"retweet_count\"]+1\n",
    "            value_positive_sentiment +=sentiment\n",
    "        else:\n",
    "            SentimentClass = 'Neutral'\n",
    "            # data_set.set_value(i, 'SentimentClass', SentimentClass )\n",
    "            data_set[i, 'SentimentClass'] = SentimentClass\n",
    "            count_neutral_sentiment += 1\n",
    "            count_neutral_sentiment_plusretweet += data_set.at[i, \"retweet_count\"]+1\n",
    "            value_neutral_sentiment +=sentiment\n",
    "\n",
    "    twitter_sentiment.append(\n",
    "        ((count_negative_sentiment,\n",
    "        count_neutral_sentiment,\n",
    "        count_positive_sentiment),\n",
    "        (count_negative_sentiment_plusretweet,\n",
    "        count_neutral_sentiment_plusretweet,\n",
    "        count_positive_sentiment_plusretweet),\n",
    "        (value_negative_sentiment,\n",
    "        value_neutral_sentiment,\n",
    "        value_positive_sentiment)))\n",
    "\n",
    "#    twitter_count_sentiment.append(\n",
    "#        (count_negative_sentiment,\n",
    "#        count_neutral_sentiment,\n",
    "#        count_positive_sentiment))\n",
    "#\n",
    "#    twitter_count_sentiment_plusretweet.append(\n",
    "#        (count_negative_sentiment_plusretweet,\n",
    "#        count_neutral_sentiment_plusretweet,\n",
    "#        count_positive_sentiment_plusretweet))\n",
    "\n",
    "    value_sentiment = value_negative_sentiment + value_neutral_sentiment + value_positive_sentiment\n",
    "    twitter_value_sentiment.append(value_sentiment)\n",
    "\n",
    "\n",
    "plt.plot(twitter_search_date, twitter_value_sentiment)\n",
    "plt.ylabel('sum of sentiments')\n",
    "plt.title('sum of sentiment per day')\n",
    "plt.show()"
   ]
  },
  {
   "cell_type": "code",
   "execution_count": 6,
   "metadata": {},
   "outputs": [
    {
     "data": {
      "text/plain": [
       "<matplotlib.legend.Legend at 0x7fc8293547f0>"
      ]
     },
     "execution_count": 6,
     "metadata": {},
     "output_type": "execute_result"
    },
    {
     "data": {
      "image/png": "[encoded data removed]",
      "text/plain": [
       "<Figure size 432x288 with 1 Axes>"
      ]
     },
     "metadata": {
      "needs_background": "light"
     },
     "output_type": "display_data"
    }
   ],
   "source": [
    "ind = np.arange(len(twitter_sentiment))  # the x locations for the groups\n",
    "width = 0.35  # the width of the bars\n",
    "\n",
    "twitter_count_negative_sentiment = list()\n",
    "twitter_count_neutral_sentiment = list()\n",
    "twitter_count_positive_sentiment = list()\n",
    "\n",
    "for j in range(len(twitter_sentiment)):\n",
    "    twitter_count_negative_sentiment.append(twitter_sentiment[j][0][0])\n",
    "    twitter_count_neutral_sentiment.append(twitter_sentiment[j][0][1])\n",
    "    twitter_count_positive_sentiment.append(twitter_sentiment[j][0][2])\n",
    "\n",
    "fig, ax = plt.subplots()\n",
    "rects1 = ax.bar(ind - width/2, twitter_count_negative_sentiment, width, label='count_negative_sentiment')\n",
    "rects2 = ax.bar(ind, twitter_count_neutral_sentiment, width, label='count_neutral_sentiment')\n",
    "rects3 = ax.bar(ind + width/2, twitter_count_positive_sentiment, width, label='count_positive_sentiment')\n",
    "# Add some text for labels, title and custom x-axis tick labels, etc.\n",
    "ax.set_ylabel('Twitter numbers')\n",
    "ax.set_title('Num of twitters per sentiments')\n",
    "ax.set_xticks(ind)\n",
    "ax.set_xticklabels(twitter_search_date)\n",
    "ax.legend()"
   ]
  },
  {
   "cell_type": "code",
   "execution_count": 7,
   "metadata": {},
   "outputs": [
    {
     "name": "stdout",
     "output_type": "stream",
     "text": [
      "AAPL\n",
      "2021-06-18\n",
      "2021-06-23\n",
      "[*********************100%***********************]  1 of 1 downloaded\n"
     ]
    },
    {
     "data": {
      "image/png": "[encoded data removed]",
      "text/plain": [
       "<Figure size 432x288 with 1 Axes>"
      ]
     },
     "metadata": {
      "needs_background": "light"
     },
     "output_type": "display_data"
    }
   ],
   "source": [
    "import yfinance as yf\n",
    "print(keyword_stock_name)\n",
    "print(today_minus_a_week)\n",
    "print(datetime_object)\n",
    "data = yf.download(keyword_stock_name, today_minus_a_week, datetime_object)\n",
    "data.Close.plot()\n",
    "\n",
    "plt.ylabel('price')\n",
    "plt.title('market price')\n",
    "plt.show()"
   ]
  },
  {
   "cell_type": "code",
   "execution_count": 8,
   "metadata": {},
   "outputs": [
    {
     "data": {
      "image/png": "[encoded data removed]",
      "text/plain": [
       "<Figure size 432x288 with 1 Axes>"
      ]
     },
     "metadata": {
      "needs_background": "light"
     },
     "output_type": "display_data"
    }
   ],
   "source": [
    "### plus retweet ###\n",
    "\n",
    "ind = np.arange(len(twitter_sentiment))  # the x locations for the groups\n",
    "width = 0.35  # the width of the bars\n",
    "\n",
    "twitter_count_negative_sentiment_plusretweet = list()\n",
    "twitter_count_neutral_sentiment_plusretweet = list()\n",
    "twitter_count_positive_sentiment_plusretweet = list()\n",
    "\n",
    "for j in range(len(twitter_sentiment)):\n",
    "    twitter_count_negative_sentiment_plusretweet.append(twitter_sentiment[j][1][0])\n",
    "    twitter_count_neutral_sentiment_plusretweet.append(twitter_sentiment[j][1][1])\n",
    "    twitter_count_positive_sentiment_plusretweet.append(twitter_sentiment[j][1][2])\n",
    "\n",
    "fig, ax = plt.subplots()\n",
    "rects1 = ax.bar(ind - width/2, twitter_count_negative_sentiment_plusretweet, width, label='count_negative_sentiment_plusretweet')\n",
    "rects2 = ax.bar(ind, twitter_count_neutral_sentiment_plusretweet, width, label='count_neutral_sentiment_plusretweet')\n",
    "rects3 = ax.bar(ind + width/2, twitter_count_positive_sentiment_plusretweet, width, label='count_positive_sentiment_plusretweet')\n",
    "# Add some text for labels, title and custom x-axis tick labels, etc.\n",
    "ax.set_ylabel('Twitter numbers')\n",
    "ax.set_title('Num of twitters plus retweeted per sentiments')\n",
    "ax.set_xticks(ind)\n",
    "ax.set_xticklabels(twitter_search_date)\n",
    "ax.legend()\n",
    "fig.tight_layout()\n",
    "\n",
    "plt.show()"
   ]
  }
 ],
 "metadata": {
  "kernelspec": {
   "display_name": "Python 3",
   "language": "python",
   "name": "python3"
  },
  "language_info": {
   "codemirror_mode": {
    "name": "ipython",
    "version": 3
   },
   "file_extension": ".py",
   "mimetype": "text/x-python",
   "name": "python",
   "nbconvert_exporter": "python",
   "pygments_lexer": "ipython3",
   "version": "3.7.3"
  }
 },
 "nbformat": 4,
 "nbformat_minor": 2
}
